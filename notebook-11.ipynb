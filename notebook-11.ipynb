{
 "cells": [
  {
   "cell_type": "code",
   "execution_count": 4,
   "id": "ebab77e5-24f1-471a-82c6-d9fd6b79cdd2",
   "metadata": {},
   "outputs": [],
   "source": [
    "import torch\n",
    "import torchvision\n",
    "import torchvision.transforms as transforms"
   ]
  },
  {
   "cell_type": "code",
   "execution_count": 2,
   "id": "f48353c8-4ae7-4e17-8799-bfade1321c85",
   "metadata": {},
   "outputs": [],
   "source": [
    "import torch.nn as nn\n",
    "import torch.nn.functional as F\n",
    "import torch.optim as optim\n",
    "import time"
   ]
  },
  {
   "cell_type": "code",
   "execution_count": 3,
   "id": "d5bf98cd-f0aa-4711-ab59-d51ea0f3dfa9",
   "metadata": {},
   "outputs": [
    {
     "name": "stdout",
     "output_type": "stream",
     "text": [
      "Downloading https://www.cs.toronto.edu/~kriz/cifar-10-python.tar.gz to ./data\\cifar-10-python.tar.gz\n"
     ]
    },
    {
     "name": "stderr",
     "output_type": "stream",
     "text": [
      "100%|███████████████████████████████████████████████████████████████| 170498071/170498071 [01:15<00:00, 2268626.97it/s]\n"
     ]
    },
    {
     "name": "stdout",
     "output_type": "stream",
     "text": [
      "Extracting ./data\\cifar-10-python.tar.gz to ./data\n",
      "Files already downloaded and verified\n"
     ]
    }
   ],
   "source": [
    "transform = transforms.Compose([transforms.ToTensor(), transforms.Normalize((0.5,), (0.5,))])\n",
    "trainset = torchvision.datasets.CIFAR10(root='./data', train=True, download=True, transform=transform)\n",
    "trainloader = torch.utils.data.DataLoader(trainset, batch_size=32, shuffle=True)\n",
    "testset = torchvision.datasets.CIFAR10(root='./data', train=False, download=True, transform=transform)\n",
    "testloader = torch.utils.data.DataLoader(testset, batch_size=32, shuffle=False)"
   ]
  },
  {
   "cell_type": "code",
   "execution_count": 31,
   "id": "cae12f19-dc22-4eac-9be8-25424c962812",
   "metadata": {
    "execution": {
     "iopub.execute_input": "2025-07-18T07:36:15.333180Z",
     "iopub.status.busy": "2025-07-18T07:36:15.332866Z",
     "iopub.status.idle": "2025-07-18T07:36:15.342685Z",
     "shell.execute_reply": "2025-07-18T07:36:15.342123Z",
     "shell.execute_reply.started": "2025-07-18T07:36:15.333158Z"
    }
   },
   "outputs": [],
   "source": [
    "import torch\n",
    "import torch.nn as nn\n",
    "import torch.nn.functional as F\n",
    "\n",
    "class CNN(nn.Module):\n",
    "    def __init__(self):\n",
    "        super(CNN, self).__init__()\n",
    "\n",
    "        self.features = nn.Sequential(\n",
    "            # First Conv Block\n",
    "            nn.Conv2d(3, 32, kernel_size=3, padding=1),\n",
    "            nn.BatchNorm2d(32),\n",
    "            nn.ReLU(),\n",
    "            nn.MaxPool2d(2),  # 32x32 → 16x16\n",
    "\n",
    "            # Second Conv Block\n",
    "            nn.Conv2d(32, 64, kernel_size=3, padding=1),\n",
    "            nn.BatchNorm2d(64),\n",
    "            nn.ReLU(),\n",
    "            nn.MaxPool2d(2),  # 16x16 → 8x8\n",
    "\n",
    "            # Third Conv Block\n",
    "            nn.Conv2d(64, 128, kernel_size=3, padding=1),\n",
    "            nn.BatchNorm2d(128),\n",
    "            nn.ReLU(),\n",
    "            nn.MaxPool2d(2),  # 8x8 → 4x4\n",
    "        )\n",
    "\n",
    "        self.classifier = nn.Sequential(\n",
    "            nn.Linear(128 * 4 * 4, 256),\n",
    "            nn.ReLU(),\n",
    "            nn.Dropout(0.5),\n",
    "            nn.Linear(256, 10)\n",
    "        )\n",
    "\n",
    "    def forward(self, x):\n",
    "        x = self.features(x)\n",
    "        x = x.view(x.size(0), -1)  # flatten\n",
    "        x = self.classifier(x)\n",
    "        return x\n",
    "\n",
    "\n",
    "model = CNN()"
   ]
  },
  {
   "cell_type": "code",
   "execution_count": 34,
   "id": "080d1dc6-6364-497a-8984-001d91453463",
   "metadata": {
    "execution": {
     "iopub.execute_input": "2025-07-18T08:12:44.791692Z",
     "iopub.status.busy": "2025-07-18T08:12:44.791367Z",
     "iopub.status.idle": "2025-07-18T08:25:08.226634Z",
     "shell.execute_reply": "2025-07-18T08:25:08.225965Z",
     "shell.execute_reply.started": "2025-07-18T08:12:44.791673Z"
    }
   },
   "outputs": [
    {
     "name": "stdout",
     "output_type": "stream",
     "text": [
      "Epoch 1, Loss: 135.293 completed in 36.25 seconds\n",
      "Epoch 2, Loss: 92.850 completed in 72.48 seconds\n",
      "Epoch 3, Loss: 70.058 completed in 108.74 seconds\n",
      "Epoch 4, Loss: 52.545 completed in 145.01 seconds\n",
      "Epoch 5, Loss: 39.188 completed in 181.35 seconds\n",
      "Epoch 6, Loss: 28.500 completed in 217.60 seconds\n",
      "Epoch 7, Loss: 19.905 completed in 253.86 seconds\n",
      "Epoch 8, Loss: 14.585 completed in 290.31 seconds\n",
      "Epoch 9, Loss: 9.261 completed in 326.83 seconds\n",
      "Epoch 10, Loss: 7.275 completed in 363.27 seconds\n",
      "Epoch 11, Loss: 4.056 completed in 399.96 seconds\n",
      "Epoch 12, Loss: 2.903 completed in 437.06 seconds\n",
      "Epoch 13, Loss: 3.241 completed in 474.50 seconds\n",
      "Epoch 14, Loss: 1.923 completed in 512.42 seconds\n",
      "Epoch 15, Loss: 3.653 completed in 550.02 seconds\n",
      "Epoch 16, Loss: 0.792 completed in 588.18 seconds\n",
      "Epoch 17, Loss: 0.579 completed in 626.66 seconds\n",
      "Epoch 18, Loss: 2.451 completed in 665.57 seconds\n",
      "Epoch 19, Loss: 1.042 completed in 704.23 seconds\n",
      "Epoch 20, Loss: 0.340 completed in 743.43 seconds\n",
      "\n",
      "Total Training Time: 743.43 seconds\n"
     ]
    }
   ],
   "source": [
    "device = torch.device(\"cuda\" if torch.cuda.is_available() else \"cpu\")\n",
    "model.to(device)\n",
    "\n",
    "criterion = nn.CrossEntropyLoss()\n",
    "optimizer = optim.Adam(model.parameters(), lr=0.0001)\n",
    "start_time = time.time()\n",
    "\n",
    "for epoch in range(20):\n",
    "    running_loss = 0.0\n",
    "    for inputs, labels in trainloader:\n",
    "        inputs, labels = inputs.to(device), labels.to(device)\n",
    "\n",
    "        optimizer.zero_grad()\n",
    "        outputs = model(inputs)\n",
    "        loss = criterion(outputs, labels)\n",
    "        loss.backward()\n",
    "        optimizer.step()\n",
    "\n",
    "        running_loss += loss.item()\n",
    "        epoch_time = time.time()\n",
    "    print(f\"Epoch {epoch + 1}, Loss: {running_loss:.3f} completed in {epoch_time - start_time:.2f} seconds\")\n",
    "\n",
    "\n",
    "total_time = time.time() - start_time\n",
    "print(f\"\\nTotal Training Time: {total_time:.2f} seconds\")"
   ]
  },
  {
   "cell_type": "code",
   "execution_count": null,
   "id": "48eb84d1-f496-4613-9c92-8d5d3e4de36c",
   "metadata": {},
   "outputs": [],
   "source": []
  },
  {
   "cell_type": "code",
   "execution_count": 41,
   "id": "59cc957d-0d2c-4d41-97d1-c0e64e4208b9",
   "metadata": {
    "execution": {
     "iopub.execute_input": "2025-07-18T11:05:48.963917Z",
     "iopub.status.busy": "2025-07-18T11:05:48.963562Z",
     "iopub.status.idle": "2025-07-18T11:05:48.971200Z",
     "shell.execute_reply": "2025-07-18T11:05:48.970643Z",
     "shell.execute_reply.started": "2025-07-18T11:05:48.963892Z"
    }
   },
   "outputs": [],
   "source": [
    "torch.save(model.state_dict(), 'model.pth')"
   ]
  },
  {
   "cell_type": "code",
   "execution_count": 35,
   "id": "c83bea41-023c-453f-a4e3-417e71282ef7",
   "metadata": {
    "execution": {
     "iopub.execute_input": "2025-07-18T08:25:45.107571Z",
     "iopub.status.busy": "2025-07-18T08:25:45.107251Z",
     "iopub.status.idle": "2025-07-18T08:25:49.230291Z",
     "shell.execute_reply": "2025-07-18T08:25:49.229613Z",
     "shell.execute_reply.started": "2025-07-18T08:25:45.107550Z"
    }
   },
   "outputs": [
    {
     "name": "stdout",
     "output_type": "stream",
     "text": [
      "Test Accuracy: 80.94%\n"
     ]
    }
   ],
   "source": [
    "# Evaluation\n",
    "model.eval()\n",
    "correct = 0\n",
    "total = 0\n",
    "with torch.no_grad():\n",
    "    for images, labels in testlo!ader:\n",
    "        images, labels = images.to(device), labels.to(device)\n",
    "        outputs = model(images)\n",
    "        _, predicted = torch.max(outputs.data, 1)\n",
    "        total += labels.size(0)\n",
    "        correct += (predicted == labels).sum().item()\n",
    "\n",
    "accuracy = 100 * correct / total\n",
    "print(f\"Test Accuracy: {accuracy:.2f}%\")\n",
    "\n"
   ]
  },
  {
   "cell_type": "markdown",
   "id": "737176d3-0916-492a-bca3-7224482f2523",
   "metadata": {},
   "source": [
    "# 1. To Create Directory structure to store inference.py and weights\n",
    "# 2. To Compress them into tarball to upload into s3 bucket"
   ]
  },
  {
   "cell_type": "code",
   "execution_count": 37,
   "id": "c7f3467c-9595-4d67-9cf6-e7530ebb920b",
   "metadata": {
    "execution": {
     "iopub.execute_input": "2025-07-18T10:45:37.214152Z",
     "iopub.status.busy": "2025-07-18T10:45:37.213836Z",
     "iopub.status.idle": "2025-07-18T10:45:37.380346Z",
     "shell.execute_reply": "2025-07-18T10:45:37.379589Z",
     "shell.execute_reply.started": "2025-07-18T10:45:37.214133Z"
    }
   },
   "outputs": [],
   "source": [
    "!mkdir model.tar.gz"
   ]
  },
  {
   "cell_type": "code",
   "execution_count": 39,
   "id": "3c2f58f3-785a-4109-8c4c-4185adb85804",
   "metadata": {
    "execution": {
     "iopub.execute_input": "2025-07-18T10:49:34.025168Z",
     "iopub.status.busy": "2025-07-18T10:49:34.024837Z",
     "iopub.status.idle": "2025-07-18T10:49:34.187315Z",
     "shell.execute_reply": "2025-07-18T10:49:34.186613Z",
     "shell.execute_reply.started": "2025-07-18T10:49:34.025144Z"
    }
   },
   "outputs": [],
   "source": [
    "!mkdir model"
   ]
  },
  {
   "cell_type": "code",
   "execution_count": 40,
   "id": "66fe358e-9d2c-48ef-8ed3-37acaf44e0b7",
   "metadata": {
    "execution": {
     "iopub.execute_input": "2025-07-18T10:53:33.183963Z",
     "iopub.status.busy": "2025-07-18T10:53:33.183624Z",
     "iopub.status.idle": "2025-07-18T10:53:33.346277Z",
     "shell.execute_reply": "2025-07-18T10:53:33.345550Z",
     "shell.execute_reply.started": "2025-07-18T10:53:33.183940Z"
    }
   },
   "outputs": [],
   "source": [
    "!mkdir model/code"
   ]
  },
  {
   "cell_type": "code",
   "execution_count": 48,
   "id": "df984b25-44c6-43d1-a05a-5bb9edfefabe",
   "metadata": {
    "execution": {
     "iopub.execute_input": "2025-07-18T14:33:42.545416Z",
     "iopub.status.busy": "2025-07-18T14:33:42.544788Z",
     "iopub.status.idle": "2025-07-18T14:33:42.842587Z",
     "shell.execute_reply": "2025-07-18T14:33:42.841905Z",
     "shell.execute_reply.started": "2025-07-18T14:33:42.545380Z"
    }
   },
   "outputs": [
    {
     "name": "stdout",
     "output_type": "stream",
     "text": [
      "model.pth\n",
      "code/\n",
      "code/.ipynb_checkpoints/\n",
      "code/.ipynb_checkpoints/inference-checkpoint.py\n",
      "code/inference.py\n"
     ]
    }
   ],
   "source": [
    "!tar -czvf model.tar.gz -C model model.pth code/"
   ]
  },
  {
   "cell_type": "code",
   "execution_count": null,
   "id": "1e8e904d-c343-4ddf-88b9-1359f1b690b3",
   "metadata": {},
   "outputs": [],
   "source": []
  }
 ],
 "metadata": {
  "kernelspec": {
   "display_name": "Python 3 (ipykernel)",
   "language": "python",
   "name": "python3"
  },
  "language_info": {
   "codemirror_mode": {
    "name": "ipython",
    "version": 3
   },
   "file_extension": ".py",
   "mimetype": "text/x-python",
   "name": "python",
   "nbconvert_exporter": "python",
   "pygments_lexer": "ipython3",
   "version": "3.12.1"
  }
 },
 "nbformat": 4,
 "nbformat_minor": 5
}
